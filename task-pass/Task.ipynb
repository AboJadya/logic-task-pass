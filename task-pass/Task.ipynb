{
 "cells": [
  {
   "cell_type": "markdown",
   "id": "9c0d0006",
   "metadata": {},
   "source": [
    "## Q1/Write a method that will remove any given character from a String?"
   ]
  },
  {
   "cell_type": "code",
   "execution_count": 1,
   "id": "72581ebc",
   "metadata": {},
   "outputs": [],
   "source": [
    "import random\n",
    "import string"
   ]
  },
  {
   "cell_type": "code",
   "execution_count": 2,
   "id": "8580792b",
   "metadata": {},
   "outputs": [],
   "source": [
    "alphanumeric = string.ascii_letters + string.digits + string.punctuation"
   ]
  },
  {
   "cell_type": "code",
   "execution_count": 3,
   "id": "ef24706e",
   "metadata": {},
   "outputs": [
    {
     "name": "stdout",
     "output_type": "stream",
     "text": [
      "Enter the length of the desired random string: 12\n",
      "The random string is: \n",
      "*(#cgA2e,H~2\n",
      "Enter the character you would like to remove:#\n",
      "This is the new string after the removal of the character:\n",
      "*(cgA2e,H~2\n"
     ]
    }
   ],
   "source": [
    "string_length = int(input(\"Enter the length of the desired random string: \"))\n",
    "string = \"\".join(random.choice(alphanumeric) for a in range(string_length))\n",
    "print(\"The random string is: \" + \"\\n\" + string)\n",
    "remove = input(\"Enter the character you would like to remove:\")\n",
    "string = string.replace(remove,\"\")\n",
    "print(\"This is the new string after the removal of the character:\"+ \"\\n\" +string)"
   ]
  },
  {
   "cell_type": "markdown",
   "id": "028c621c",
   "metadata": {},
   "source": [
    "## Q2/Write a program to find all prime numbers up to a given range of numbers?"
   ]
  },
  {
   "cell_type": "code",
   "execution_count": 4,
   "id": "049ffebe",
   "metadata": {},
   "outputs": [
    {
     "name": "stdout",
     "output_type": "stream",
     "text": [
      "Enter the lower range number: 1\n",
      "Enter the upper range number: 100\n",
      "The prime numbers within the range of 1 and 100 are: [2, 3, 5, 7, 11, 13, 17, 19, 23, 29, 31, 37, 41, 43, 47, 53, 59, 61, 67, 71, 73, 79, 83, 89, 97]\n"
     ]
    }
   ],
   "source": [
    "lower_range = int(input(\"Enter the lower range number: \"))\n",
    "upper_range = int(input(\"Enter the upper range number: \"))\n",
    "primes = []\n",
    "for i in range(lower_range,upper_range+1):\n",
    "    if i > 1:\n",
    "        for j in range(2,i):\n",
    "            if i % j == 0:\n",
    "                break\n",
    "        else:\n",
    "            primes.append(i)\n",
    "print(\"The prime numbers within the range of\",lower_range, \"and\" ,upper_range, \"are:\", primes)"
   ]
  },
  {
   "cell_type": "markdown",
   "id": "aa0f4bb1",
   "metadata": {},
   "source": [
    "## Q3/write a function that count how many the given character repeated in a given string?"
   ]
  },
  {
   "cell_type": "code",
   "execution_count": 5,
   "id": "46b56587",
   "metadata": {},
   "outputs": [],
   "source": [
    "def char_repeat():\n",
    "    rand_string = input(\"Enter any random string: \")\n",
    "    given_char = input(\"Enter the character you want to count: \")\n",
    "    if rand_string.count(given_char) > 1:\n",
    "        return print(\"The number of repititions of \" + given_char ,\"is \", rand_string.count(given_char))\n",
    "    else:\n",
    "        return print(\"The character is not repeated within the string\")"
   ]
  },
  {
   "cell_type": "code",
   "execution_count": 6,
   "id": "9bbcb1d3",
   "metadata": {},
   "outputs": [
    {
     "name": "stdout",
     "output_type": "stream",
     "text": [
      "Enter any random string: aaadskjlajkdl\n",
      "Enter the character you want to count: a\n",
      "The number of repititions of a is  4\n"
     ]
    }
   ],
   "source": [
    "char_repeat()"
   ]
  },
  {
   "cell_type": "code",
   "execution_count": null,
   "id": "42edb3a8",
   "metadata": {},
   "outputs": [],
   "source": []
  }
 ],
 "metadata": {
  "kernelspec": {
   "display_name": "Python 3 (ipykernel)",
   "language": "python",
   "name": "python3"
  },
  "language_info": {
   "codemirror_mode": {
    "name": "ipython",
    "version": 3
   },
   "file_extension": ".py",
   "mimetype": "text/x-python",
   "name": "python",
   "nbconvert_exporter": "python",
   "pygments_lexer": "ipython3",
   "version": "3.9.12"
  }
 },
 "nbformat": 4,
 "nbformat_minor": 5
}
